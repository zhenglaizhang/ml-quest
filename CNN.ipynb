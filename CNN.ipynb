{
 "cells": [
  {
   "cell_type": "markdown",
   "metadata": {},
   "source": [
    "## On Multi-Layer Perceptron Neural Networks\n",
    "\n",
    "### Multi-Layer Perceptrons.\n",
    "- A **perceptron** is a single neuron model that was a precursor to larger neural networks.\n",
    "- Mathematically, neural networks are capable of learning any mapping function and have been proven to be a universal approximation algorithm.\n",
    "- The data structure can pick out (learn to represent) features at different scales or resolutions and combine them into higher-order features\n",
    "\n",
    "### Neurons, Weights and Activations.\n",
    "### Networks of Neurons.\n",
    "### Training Networks.\n",
    "\n"
   ]
  },
  {
   "cell_type": "markdown",
   "metadata": {},
   "source": [
    "## Convolutional Neural Networks(ConvNets or CNNs)\n",
    "\n",
    "- These networks preserve the spatial structure of the problem and were developed for object recognition tasks such as handwritten digit recognition.\n",
    "- achieving state-of-the-art results on difficult computer vision and natural language processing tasks.\n",
    "- "
   ]
  },
  {
   "cell_type": "code",
   "execution_count": null,
   "metadata": {
    "collapsed": true
   },
   "outputs": [],
   "source": []
  }
 ],
 "metadata": {
  "kernelspec": {
   "display_name": "Python 3",
   "language": "python",
   "name": "python3"
  },
  "language_info": {
   "codemirror_mode": {
    "name": "ipython",
    "version": 3
   },
   "file_extension": ".py",
   "mimetype": "text/x-python",
   "name": "python",
   "nbconvert_exporter": "python",
   "pygments_lexer": "ipython3",
   "version": "3.5.2"
  }
 },
 "nbformat": 4,
 "nbformat_minor": 2
}
